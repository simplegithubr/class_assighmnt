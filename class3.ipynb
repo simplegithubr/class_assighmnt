{
  "nbformat": 4,
  "nbformat_minor": 0,
  "metadata": {
    "colab": {
      "provenance": [],
      "authorship_tag": "ABX9TyP2EsJQb5jQ7OmwmX20be3Y",
      "include_colab_link": true
    },
    "kernelspec": {
      "name": "python3",
      "display_name": "Python 3"
    },
    "language_info": {
      "name": "python"
    }
  },
  "cells": [
    {
      "cell_type": "markdown",
      "metadata": {
        "id": "view-in-github",
        "colab_type": "text"
      },
      "source": [
        "<a href=\"https://colab.research.google.com/github/simplegithubr/class_assighmnt/blob/main/class3.ipynb\" target=\"_parent\"><img src=\"https://colab.research.google.com/assets/colab-badge.svg\" alt=\"Open In Colab\"/></a>"
      ]
    },
    {
      "cell_type": "code",
      "execution_count": null,
      "metadata": {
        "colab": {
          "base_uri": "https://localhost:8080/"
        },
        "id": "PynetfJnkGD2",
        "outputId": "9098a435-1561-475b-d3c4-e1170e49146d"
      },
      "outputs": [
        {
          "output_type": "stream",
          "name": "stdout",
          "text": [
            "Enter Student Name:kinza\n",
            "Enter Roll Number: 33\n",
            "Enter marks for Math: 45\n",
            "Enter marks for Physics: 35\n",
            "Enter marks for Urdu: 44\n",
            "Enter marks for English: 36\n",
            "Enter marks for Computer: 44\n",
            "Record inserted sucssfully. Do You want to insert more? (Y/N):n\n",
            "\n",
            "------------------------\n",
            "     Student Report Cards \n",
            "--------------------------\n",
            "\n",
            "Name: kinza\n",
            "Roll Number: 33\n",
            "Math: 45\n",
            "Physics: 35\n",
            "Urdu: 44\n",
            "English: 36\n",
            "Computer: 44\n",
            "Total Marks: 204/500\n",
            "Percentage: 40.80%\n",
            "Grade: D\n",
            "--------------------------------\n"
          ]
        }
      ],
      "source": [
        "students = []\n",
        "\n",
        "def input_student_data():\n",
        "    while True:\n",
        "        student = {}\n",
        "        student['name']=input(\"Enter Student Name:\")\n",
        "        student['roll_number'] = input(\"Enter Roll Number: \")\n",
        "        subjects = ['Math', 'Physics', 'Urdu', 'English', 'Computer']\n",
        "        marks = {}\n",
        "        for subject in subjects:\n",
        "            while True:\n",
        "                try:\n",
        "                   marks[subject]= int(input(f\"Enter marks for {subject}: \"))\n",
        "                   break\n",
        "                except ValueError:\n",
        "                     print(\"Invalid input! Please enter numeric marks.\")\n",
        "\n",
        "          # student['marks'] = marks\n",
        "          # students.append(student)\n",
        "        student['marks'] = marks\n",
        "        students.append(student)\n",
        "\n",
        "\n",
        "        more = input(\"Record inserted sucssfully. Do You want to insert more? (Y/N):\").strip().upper()\n",
        "        if more != 'Y':\n",
        "            break\n",
        "\n",
        "\n",
        "\n",
        "def generate_report_cards():\n",
        "    print(\"\\n------------------------\")\n",
        "    print(\"     Student Report Cards \")\n",
        "    print(\"--------------------------\")\n",
        "    for student in students:\n",
        "        marks = student['marks']\n",
        "        total_marks = sum(marks.values())\n",
        "        percentage = (total_marks / 500) * 100\n",
        "\n",
        "        if percentage >= 80:\n",
        "           grade = \"A+\"\n",
        "        elif percentage >= 70:\n",
        "           grade = \"A\"\n",
        "\n",
        "        elif percentage >= 60:\n",
        "           grade = \"B\"\n",
        "\n",
        "        elif percentage >= 50:\n",
        "           grade = \"C\"\n",
        "        elif percentage >= 40:\n",
        "           grade = \"D\"\n",
        "        else:\n",
        "          grade = \"F\"\n",
        "\n",
        "        print(f\"\\nName: {student['name']}\")\n",
        "        print(f\"Roll Number: {student['roll_number']}\")\n",
        "        for subject, mark in marks.items():\n",
        "            print(f\"{subject}: {mark}\")\n",
        "        print(f\"Total Marks: {total_marks}/500\")\n",
        "        print(f\"Percentage: {percentage:.2f}%\")\n",
        "        print(f\"Grade: {grade}\")\n",
        "        print(\"--------------------------------\")\n",
        "\n",
        "input_student_data()\n",
        "generate_report_cards()"
      ]
    }
  ]
}